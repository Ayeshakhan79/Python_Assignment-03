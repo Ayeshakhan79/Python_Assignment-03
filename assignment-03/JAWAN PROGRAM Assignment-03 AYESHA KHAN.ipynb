{
 "cells": [
  {
   "cell_type": "code",
   "execution_count": 18,
   "id": "4186298a",
   "metadata": {},
   "outputs": [
    {
     "name": "stdout",
     "output_type": "stream",
     "text": [
      "ANSWER-01:\n",
      "\n",
      "Twinkle, twinkle, little star,\n",
      "\t How I wonder what you are!\n",
      "\t\t Up above the world so high,\n",
      "\t\t Like a diamond in the sky.\n",
      "Twinkle, twinkle, little star,\n",
      "\t How I wonder what you are!\n"
     ]
    }
   ],
   "source": [
    "print(\"ANSWER-01:\\n\");\n",
    "print(\"Twinkle, twinkle, little star,\\n\\t How I wonder what you are!\\n\\t\\t Up above the world so high,\\n\\t\\t Like a diamond in the sky.\\nTwinkle, twinkle, little star,\\n\\t How I wonder what you are!\");"
   ]
  },
  {
   "cell_type": "code",
   "execution_count": 44,
   "id": "e1900188",
   "metadata": {},
   "outputs": [
    {
     "name": "stdout",
     "output_type": "stream",
     "text": [
      "ANSWER-02:\n",
      "\n",
      "3\n"
     ]
    }
   ],
   "source": [
    "print(\"ANSWER-02:\\n\");\n",
    "import platform;\n",
    "print(sys.version_info.major);"
   ]
  },
  {
   "cell_type": "code",
   "execution_count": 51,
   "id": "16d1bfb2",
   "metadata": {},
   "outputs": [
    {
     "name": "stdout",
     "output_type": "stream",
     "text": [
      "ANSWER-03:\n",
      "\n",
      "Current Date\n",
      "24-10-2021\n",
      "\n",
      "Current Time\n",
      "00:33:39\n"
     ]
    }
   ],
   "source": [
    "print(\"ANSWER-03:\\n\");\n",
    "import datetime;\n",
    "now = datetime.datetime.now();\n",
    "print(\"Current Date\");\n",
    "print(now.strftime('%d-%m-%Y'));\n",
    "print(\"\\nCurrent Time\");\n",
    "print(now.strftime('%H:%M:%S'));"
   ]
  },
  {
   "cell_type": "code",
   "execution_count": 182,
   "id": "7f4c2117",
   "metadata": {},
   "outputs": [
    {
     "name": "stdout",
     "output_type": "stream",
     "text": [
      "ANSWER-04:\n",
      "\n",
      "Please Enter The Radius of Your Choice= 12.5\n",
      "\n",
      "Area of circle is =  490.87\n"
     ]
    }
   ],
   "source": [
    "print(\"ANSWER-04:\\n\");\n",
    "from math import pi;\n",
    "Radius= float (input(\"Please Enter The Radius of Your Choice= \"));\n",
    "Area = float ((pi) * (Radius**2));\n",
    "print(\"\\nArea of circle is = \"  , \"{:.2f}\".format(Area));"
   ]
  },
  {
   "cell_type": "code",
   "execution_count": 169,
   "id": "18a4de13",
   "metadata": {},
   "outputs": [
    {
     "name": "stdout",
     "output_type": "stream",
     "text": [
      "ANSWER-05:\n",
      "\n",
      "Please Enter Your First Name= Ayesha\n",
      "Please Enter Your Last Name= Khan\n",
      "Khan   Ayesha\n"
     ]
    }
   ],
   "source": [
    "print(\"ANSWER-05:\\n\");\n",
    "First_Name= input(\"Please Enter Your First Name= \");\n",
    "Last_Name= input(\"Please Enter Your Last Name= \");\n",
    "print(Last_Name,\" \",First_Name);"
   ]
  },
  {
   "cell_type": "code",
   "execution_count": 155,
   "id": "07b7d498",
   "metadata": {},
   "outputs": [
    {
     "name": "stdout",
     "output_type": "stream",
     "text": [
      "ANSWER-06:\n",
      "\n",
      "Enter First Integer of Your Choice= 67\n",
      "Enter Second Integer of Your Choice= 76\n",
      "\n",
      "Addition=  143\n"
     ]
    }
   ],
   "source": [
    "print(\"ANSWER-06:\\n\");\n",
    "Value_One= int(input(\"Enter First Integer of Your Choice= \"));\n",
    "Value_Two= int(input(\"Enter Second Integer of Your Choice= \"));\n",
    "print(\"\\nAddition= \", str(Value_One+Value_Two));"
   ]
  },
  {
   "cell_type": "code",
   "execution_count": 128,
   "id": "cdbbfaaf",
   "metadata": {},
   "outputs": [
    {
     "name": "stdout",
     "output_type": "stream",
     "text": [
      "ANSWER-07:\n",
      "\n",
      "Please Enter The Marks Out of 100= 89\n",
      "Please Enter The Marks Out of 100= 87\n",
      "Please Enter The Marks Out of 100= 89\n",
      "Please Enter The Marks Out of 100= 95\n",
      "Please Enter The Marks Out of 100= 99\n",
      "Grade = Grade A+\n"
     ]
    }
   ],
   "source": [
    "print(\"ANSWER-07:\\n\");\n",
    "ROB= float (input(\"Please Enter The Marks Out of 100= \"));\n",
    "IOT= float (input(\"Please Enter The Marks Out of 100= \"));\n",
    "ML= float (input(\"Please Enter The Marks Out of 100= \"));\n",
    "DS= float (input(\"Please Enter The Marks Out of 100= \"));\n",
    "PY= float (input(\"Please Enter The Marks Out of 100= \"));\n",
    "Total_Marks=500;\n",
    "Obtained_Marks = ROB+IOT+ML+DS+PY;\n",
    "Percentage=(Obtained_Marks/Total_Marks)*100;\n",
    "if Percentage < 100 and Percentage >= 80:\n",
    "    print(\"Grade = Grade A+\");\n",
    "    \n",
    "elif Percentage < 80 and Percentage >= 70:\n",
    "    print(\"Grade = Grade A\");\n",
    "    \n",
    "elif Percentage < 70 and Percentage >= 60:\n",
    "    print(\"Grade = Grade B\");\n",
    "    \n",
    "elif Percentage < 60 and Percentage >= 50:\n",
    "    print(\"Grade = Grade C\");\n",
    "    \n",
    "elif Percentage < 50 and Percentage >= 40:\n",
    "    print(\"Grade = Grade D\");\n",
    "    \n",
    "elif Percentage < 40 and Percentage >= 33:\n",
    "    print(\"Grade = Grade E\");\n",
    "    \n",
    "elif Percentage < 33 and Percentage > 0:\n",
    "    print(\"Fail\");\n",
    "    \n",
    "else:\n",
    "        print(\"Not valid Enter Marks between 0 to 100\");\n"
   ]
  },
  {
   "cell_type": "code",
   "execution_count": 143,
   "id": "0270be73",
   "metadata": {},
   "outputs": [
    {
     "name": "stdout",
     "output_type": "stream",
     "text": [
      "ANSWER-08:\n",
      "\n",
      "Please Enter a Number of Your Choice= 67\n",
      "\n",
      "Odd Number\n"
     ]
    }
   ],
   "source": [
    "print(\"ANSWER-08:\\n\");\n",
    "User_Number =int(input(\"Please Enter a Number of Your Choice= \"));  \n",
    "if(User_Number%2==0):  \n",
    "    print(\"\\nEven Number\")  \n",
    "else:  \n",
    "    print(\"\\nOdd Number\") "
   ]
  },
  {
   "cell_type": "code",
   "execution_count": 183,
   "id": "c2a6ab24",
   "metadata": {},
   "outputs": [
    {
     "name": "stdout",
     "output_type": "stream",
     "text": [
      "ANSWER-09:\n",
      "\n",
      "Lenght of This Upper Given list is = 5\n"
     ]
    }
   ],
   "source": [
    "print(\"ANSWER-09:\\n\");\n",
    "Names_Of_Students = [\"Ayesha Khan\", \"Fiza Khalid\",\"Zoha Shamim\", \"Aleena Fareed\", \"Javeria Ishaq\"];\n",
    "print(\"Lenght of This Upper Given list is =\", len(Names_Of_Students));"
   ]
  },
  {
   "cell_type": "code",
   "execution_count": 177,
   "id": "fff4a32c",
   "metadata": {},
   "outputs": [
    {
     "name": "stdout",
     "output_type": "stream",
     "text": [
      "ANSWER-10:\n",
      "\n",
      "Sum of all Numeric Items In This Upper Given List = 278\n"
     ]
    }
   ],
   "source": [
    "print(\"ANSWER-10:\\n\");\n",
    "Sum_of_All=0;\n",
    "Items=0;\n",
    "Numeric_List= [10,100,11,121,12,24];\n",
    "while(Items < len(Numeric_List)):\n",
    "    Sum_of_All = Sum_of_All + Numeric_List[Items];\n",
    "    Items += 1;\n",
    "print(\"Sum of all Numeric Items In This Upper Given List =\", Sum_of_All);"
   ]
  },
  {
   "cell_type": "code",
   "execution_count": 178,
   "id": "f1b7013b",
   "metadata": {},
   "outputs": [
    {
     "name": "stdout",
     "output_type": "stream",
     "text": [
      "ANSWER-11:\n",
      "\n",
      "Largest Element In This Upper Given List = 121\n"
     ]
    }
   ],
   "source": [
    "print(\"ANSWER-11:\\n\");\n",
    "Numeric_List= [10,100,11,121,12,24];\n",
    "print(\"Largest Element In This Upper Given List =\", max(Numeric_List));"
   ]
  },
  {
   "cell_type": "code",
   "execution_count": 181,
   "id": "191a5025",
   "metadata": {},
   "outputs": [
    {
     "name": "stdout",
     "output_type": "stream",
     "text": [
      "ANSWER-12:\n",
      "\n",
      "1\n",
      "1\n",
      "2\n",
      "3\n"
     ]
    }
   ],
   "source": [
    "print(\"ANSWER-12:\\n\");\n",
    "a=[1, 1, 2, 3, 5, 8, 13, 21, 34, 55, 89];\n",
    "for elements in a:\n",
    "    if elements<5:\n",
    "        print(elements);"
   ]
  }
 ],
 "metadata": {
  "kernelspec": {
   "display_name": "Python 3",
   "language": "python",
   "name": "python3"
  },
  "language_info": {
   "codemirror_mode": {
    "name": "ipython",
    "version": 3
   },
   "file_extension": ".py",
   "mimetype": "text/x-python",
   "name": "python",
   "nbconvert_exporter": "python",
   "pygments_lexer": "ipython3",
   "version": "3.8.8"
  }
 },
 "nbformat": 4,
 "nbformat_minor": 5
}
